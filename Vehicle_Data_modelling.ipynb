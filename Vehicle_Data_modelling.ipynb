{
  "nbformat": 4,
  "nbformat_minor": 0,
  "metadata": {
    "colab": {
      "name": "Vehicle_Data_modelling.ipynb",
      "provenance": []
    },
    "kernelspec": {
      "name": "python3",
      "display_name": "Python 3"
    },
    "language_info": {
      "name": "python"
    }
  },
  "cells": [
    {
      "cell_type": "code",
      "metadata": {
        "id": "MX_L4uDVwW4h"
      },
      "source": [
        ""
      ],
      "execution_count": null,
      "outputs": []
    },
    {
      "cell_type": "markdown",
      "metadata": {
        "id": "utility-thriller"
      },
      "source": [
        "## Immanuella Duke\n",
        "## Final project SCAMP\n",
        "\n",
        "### Used car dataset: https://www.kaggle.com/austinreese/craigslist-carstrucks-data\n",
        "\n",
        "### Data Modelling step\n",
        "In this notebook, we redesign the problem as a classification and regression model and build three models each on the data.\n",
        "We later make prediction on the data and evaluate the performance of those predictions and compare the results."
      ]
    },
    {
      "cell_type": "markdown",
      "metadata": {
        "id": "closing-approval"
      },
      "source": [
        "-----------------------------------------------------------------------------------\n",
        "\n",
        "### Import libraries"
      ]
    },
    {
      "cell_type": "code",
      "metadata": {
        "id": "western-rachel"
      },
      "source": [
        "import pandas as pd\n",
        "import numpy as np\n",
        "import seaborn as sns\n",
        "import warnings\n",
        "import gc\n",
        "warnings.filterwarnings(\"ignore\")\n",
        "import matplotlib.pyplot as plt\n",
        "from sklearn.preprocessing import LabelEncoder, OneHotEncoder\n",
        "from sklearn.model_selection import train_test_split\n",
        "from sklearn import svm\n",
        "from sklearn.metrics import confusion_matrix,precision_score,classification_report,accuracy_score,mean_squared_error,mean_absolute_error,r2_score\n",
        "from sklearn.ensemble import RandomForestClassifier,RandomForestRegressor\n",
        "from sklearn.neighbors import KNeighborsClassifier,KNeighborsRegressor\n",
        "from sklearn.neural_network import MLPClassifier,MLPRegressor\n",
        "\n",
        "\n",
        "import matplotlib.pyplot as plt"
      ],
      "execution_count": 40,
      "outputs": []
    },
    {
      "cell_type": "code",
      "metadata": {
        "colab": {
          "base_uri": "https://localhost:8080/"
        },
        "id": "CgvmLvZ3OMZr",
        "outputId": "55256f74-cc1d-4f97-83b4-05fa9b7cfc44"
      },
      "source": [
        "from google.colab import drive\n",
        "drive.mount('/content/gdrive')"
      ],
      "execution_count": 2,
      "outputs": [
        {
          "output_type": "stream",
          "text": [
            "Drive already mounted at /content/gdrive; to attempt to forcibly remount, call drive.mount(\"/content/gdrive\", force_remount=True).\n"
          ],
          "name": "stdout"
        }
      ]
    },
    {
      "cell_type": "markdown",
      "metadata": {
        "id": "jGGY0H-YXmh_"
      },
      "source": [
        "### Download dataset from Drive"
      ]
    },
    {
      "cell_type": "code",
      "metadata": {
        "colab": {
          "base_uri": "https://localhost:8080/"
        },
        "id": "Y2B_VBGOWyFz",
        "outputId": "165a457b-574b-44ce-f7cb-80d64e6046e4"
      },
      "source": [
        "import os\n",
        "os.environ['KAGGLE_CONFIG_DIR'] = \"/content/gdrive/My Drive/Kaggle\"\n",
        "%cd /content/gdrive/My Drive/Kaggle"
      ],
      "execution_count": 3,
      "outputs": [
        {
          "output_type": "stream",
          "text": [
            "/content/gdrive/My Drive/Kaggle\n"
          ],
          "name": "stdout"
        }
      ]
    },
    {
      "cell_type": "code",
      "metadata": {
        "id": "OJ3GO6ohxTuM"
      },
      "source": [
        "#Import dataset\n",
        "import csv\n",
        "vehicles_df = pd.read_csv('new_vehicle.csv')"
      ],
      "execution_count": 4,
      "outputs": []
    },
    {
      "cell_type": "code",
      "metadata": {
        "colab": {
          "base_uri": "https://localhost:8080/",
          "height": 243
        },
        "id": "eshDsjBPxgnS",
        "outputId": "45c12ec2-e8d1-4d2d-f07b-dcdba0a0ea15"
      },
      "source": [
        "vehicles_df.head()"
      ],
      "execution_count": 5,
      "outputs": [
        {
          "output_type": "execute_result",
          "data": {
            "text/html": [
              "<div>\n",
              "<style scoped>\n",
              "    .dataframe tbody tr th:only-of-type {\n",
              "        vertical-align: middle;\n",
              "    }\n",
              "\n",
              "    .dataframe tbody tr th {\n",
              "        vertical-align: top;\n",
              "    }\n",
              "\n",
              "    .dataframe thead th {\n",
              "        text-align: right;\n",
              "    }\n",
              "</style>\n",
              "<table border=\"1\" class=\"dataframe\">\n",
              "  <thead>\n",
              "    <tr style=\"text-align: right;\">\n",
              "      <th></th>\n",
              "      <th>Unnamed: 0</th>\n",
              "      <th>region</th>\n",
              "      <th>price</th>\n",
              "      <th>year</th>\n",
              "      <th>manufacturer</th>\n",
              "      <th>model</th>\n",
              "      <th>condition</th>\n",
              "      <th>cylinders</th>\n",
              "      <th>fuel</th>\n",
              "      <th>odometer</th>\n",
              "      <th>title_status</th>\n",
              "      <th>transmission</th>\n",
              "      <th>drive</th>\n",
              "      <th>size</th>\n",
              "      <th>type</th>\n",
              "      <th>paint_color</th>\n",
              "      <th>state</th>\n",
              "    </tr>\n",
              "  </thead>\n",
              "  <tbody>\n",
              "    <tr>\n",
              "      <th>0</th>\n",
              "      <td>27</td>\n",
              "      <td>16</td>\n",
              "      <td>33590.0</td>\n",
              "      <td>2014.0</td>\n",
              "      <td>14</td>\n",
              "      <td>16289</td>\n",
              "      <td>2</td>\n",
              "      <td>5</td>\n",
              "      <td>17</td>\n",
              "      <td>57923.0</td>\n",
              "      <td>0</td>\n",
              "      <td>2</td>\n",
              "      <td>0</td>\n",
              "      <td>1</td>\n",
              "      <td>477</td>\n",
              "      <td>12693</td>\n",
              "      <td>1</td>\n",
              "    </tr>\n",
              "    <tr>\n",
              "      <th>1</th>\n",
              "      <td>28</td>\n",
              "      <td>16</td>\n",
              "      <td>22590.0</td>\n",
              "      <td>2010.0</td>\n",
              "      <td>7</td>\n",
              "      <td>16608</td>\n",
              "      <td>2</td>\n",
              "      <td>5</td>\n",
              "      <td>17</td>\n",
              "      <td>71229.0</td>\n",
              "      <td>0</td>\n",
              "      <td>2</td>\n",
              "      <td>0</td>\n",
              "      <td>1</td>\n",
              "      <td>477</td>\n",
              "      <td>1749</td>\n",
              "      <td>1</td>\n",
              "    </tr>\n",
              "    <tr>\n",
              "      <th>2</th>\n",
              "      <td>29</td>\n",
              "      <td>16</td>\n",
              "      <td>39590.0</td>\n",
              "      <td>2020.0</td>\n",
              "      <td>7</td>\n",
              "      <td>16652</td>\n",
              "      <td>2</td>\n",
              "      <td>5</td>\n",
              "      <td>17</td>\n",
              "      <td>19160.0</td>\n",
              "      <td>0</td>\n",
              "      <td>2</td>\n",
              "      <td>0</td>\n",
              "      <td>1</td>\n",
              "      <td>477</td>\n",
              "      <td>6348</td>\n",
              "      <td>1</td>\n",
              "    </tr>\n",
              "    <tr>\n",
              "      <th>3</th>\n",
              "      <td>30</td>\n",
              "      <td>16</td>\n",
              "      <td>30990.0</td>\n",
              "      <td>2017.0</td>\n",
              "      <td>38</td>\n",
              "      <td>19258</td>\n",
              "      <td>2</td>\n",
              "      <td>5</td>\n",
              "      <td>17</td>\n",
              "      <td>41124.0</td>\n",
              "      <td>0</td>\n",
              "      <td>2</td>\n",
              "      <td>1</td>\n",
              "      <td>1</td>\n",
              "      <td>477</td>\n",
              "      <td>6348</td>\n",
              "      <td>1</td>\n",
              "    </tr>\n",
              "    <tr>\n",
              "      <th>4</th>\n",
              "      <td>31</td>\n",
              "      <td>16</td>\n",
              "      <td>15000.0</td>\n",
              "      <td>2013.0</td>\n",
              "      <td>13</td>\n",
              "      <td>8260</td>\n",
              "      <td>0</td>\n",
              "      <td>4</td>\n",
              "      <td>17</td>\n",
              "      <td>128000.0</td>\n",
              "      <td>0</td>\n",
              "      <td>0</td>\n",
              "      <td>67</td>\n",
              "      <td>1</td>\n",
              "      <td>1467</td>\n",
              "      <td>1</td>\n",
              "      <td>1</td>\n",
              "    </tr>\n",
              "  </tbody>\n",
              "</table>\n",
              "</div>"
            ],
            "text/plain": [
              "   Unnamed: 0  region    price    year  ...  size  type  paint_color  state\n",
              "0          27      16  33590.0  2014.0  ...     1   477        12693      1\n",
              "1          28      16  22590.0  2010.0  ...     1   477         1749      1\n",
              "2          29      16  39590.0  2020.0  ...     1   477         6348      1\n",
              "3          30      16  30990.0  2017.0  ...     1   477         6348      1\n",
              "4          31      16  15000.0  2013.0  ...     1  1467            1      1\n",
              "\n",
              "[5 rows x 17 columns]"
            ]
          },
          "metadata": {
            "tags": []
          },
          "execution_count": 5
        }
      ]
    },
    {
      "cell_type": "code",
      "metadata": {
        "id": "JumSYOmSxpPs"
      },
      "source": [
        "# drop the previous index - first column\n",
        "\n",
        "vehicles_df = vehicles_df.drop(columns =['Unnamed: 0'])"
      ],
      "execution_count": 6,
      "outputs": []
    },
    {
      "cell_type": "markdown",
      "metadata": {
        "id": "9A1pWw9BylZw"
      },
      "source": [
        "##  **In this project, we will define the modelling in two ways: as a  classfication problem, then as a regression problem.**\n",
        "\n",
        "**Classfication problem: Here, there will be predefined class groups for the cars ranging from very low price to exorbitant prices. Then we will predict the class that a car belongs to in the prediction stage.**\n",
        "\n",
        "**Regression Problem: Here, the models will aim to predict the raw prices of the cars down to the most precise value. Regression metrics will be used to evaluate these models.**"
      ]
    },
    {
      "cell_type": "markdown",
      "metadata": {
        "id": "-yp3Fp5Ezpol"
      },
      "source": [
        "\n",
        "\n",
        "---\n",
        "\n",
        "Regression dataframe"
      ]
    },
    {
      "cell_type": "code",
      "metadata": {
        "id": "P0gRj9_2z0DS"
      },
      "source": [
        "vehicles_regression_df = vehicles_df.copy(deep=True)"
      ],
      "execution_count": 7,
      "outputs": []
    },
    {
      "cell_type": "markdown",
      "metadata": {
        "id": "pfjuiVN4zvuW"
      },
      "source": [
        "\n",
        "\n",
        "---\n",
        "Classification dataframe\n"
      ]
    },
    {
      "cell_type": "code",
      "metadata": {
        "id": "zmkSrzbAz4CR"
      },
      "source": [
        "vehicles_classification_df = vehicles_df.copy(deep=True)"
      ],
      "execution_count": 8,
      "outputs": []
    },
    {
      "cell_type": "code",
      "metadata": {
        "colab": {
          "base_uri": "https://localhost:8080/"
        },
        "id": "TsI5SZCBz_fZ",
        "outputId": "941ef6ad-933d-48aa-923f-31146cc05f9e"
      },
      "source": [
        "#sort the price column\n",
        "vehicles_classification_df.price.sort_values()\n"
      ],
      "execution_count": 8,
      "outputs": [
        {
          "output_type": "execute_result",
          "data": {
            "text/plain": [
              "84282         1.0\n",
              "31968         1.0\n",
              "6237          1.0\n",
              "97784         1.0\n",
              "97783         1.0\n",
              "           ...   \n",
              "283887    54590.0\n",
              "267135    54590.0\n",
              "261997    54590.0\n",
              "225639    54590.0\n",
              "167298    54590.0\n",
              "Name: price, Length: 366901, dtype: float64"
            ]
          },
          "metadata": {
            "tags": []
          },
          "execution_count": 8
        }
      ]
    },
    {
      "cell_type": "markdown",
      "metadata": {
        "id": "SG6CaKbE0NeW"
      },
      "source": [
        "We have values ranging from $1 to \\$54590 dollars"
      ]
    },
    {
      "cell_type": "markdown",
      "metadata": {
        "id": "d2oAkr780yn5"
      },
      "source": [
        " **The cars will be categorized into 5 groups:**\n",
        "\n",
        "\n",
        "1.   less than 10,000  : *1*\n",
        "2.   10,000 - 20,000   : *2*\n",
        "3.   20,000 - 30,000   : *3*\n",
        "3.   30,000 - 40,000   : *4*\n",
        "3.   40,000 - 50,000   : *5*\n",
        "3.   greater than 50,000 : *6*\n",
        "\n"
      ]
    },
    {
      "cell_type": "code",
      "metadata": {
        "id": "VF7IcaCg0NFV"
      },
      "source": [
        "vehicles_classification_df['new_price'] = 0"
      ],
      "execution_count": 9,
      "outputs": []
    },
    {
      "cell_type": "code",
      "metadata": {
        "id": "-l4bmbZI4mLi"
      },
      "source": [
        " vehicles_classification_df.loc[((vehicles_classification_df['price'] <= 10000))  , 'new_price'] = 1\n",
        " vehicles_classification_df.loc[((vehicles_classification_df['price'] > 10000)) & ((vehicles_classification_df['price'] <= 20000))  , 'new_price'] = 2\n",
        " vehicles_classification_df.loc[((vehicles_classification_df['price'] > 20000)) & ((vehicles_classification_df['price'] <= 30000))  , 'new_price'] = 3\n",
        " vehicles_classification_df.loc[((vehicles_classification_df['price'] > 30000)) & ((vehicles_classification_df['price'] <= 40000))  , 'new_price'] = 4\n",
        " vehicles_classification_df.loc[((vehicles_classification_df['price'] > 40000)) & ((vehicles_classification_df['price'] <= 50000))  , 'new_price'] = 5\n",
        " vehicles_classification_df.loc[ ((vehicles_classification_df['price'] > 50000))  , 'new_price'] = 6"
      ],
      "execution_count": 10,
      "outputs": []
    },
    {
      "cell_type": "code",
      "metadata": {
        "colab": {
          "base_uri": "https://localhost:8080/"
        },
        "id": "CJOMxmRz38W9",
        "outputId": "7a19f83d-ab12-4b18-e44a-fd2073e78d55"
      },
      "source": [
        "vehicles_classification_df['new_price'].sort_values()"
      ],
      "execution_count": 12,
      "outputs": [
        {
          "output_type": "execute_result",
          "data": {
            "text/plain": [
              "183450    1\n",
              "163828    1\n",
              "163829    1\n",
              "163830    1\n",
              "163831    1\n",
              "         ..\n",
              "81708     6\n",
              "256716    6\n",
              "19447     6\n",
              "81564     6\n",
              "21008     6\n",
              "Name: new_price, Length: 366901, dtype: int64"
            ]
          },
          "metadata": {
            "tags": []
          },
          "execution_count": 12
        }
      ]
    },
    {
      "cell_type": "markdown",
      "metadata": {
        "id": "jM2_Nh-j7-Yd"
      },
      "source": [
        "The new price catergory has been properly set. we can now drop the numerical price column for the classification df"
      ]
    },
    {
      "cell_type": "code",
      "metadata": {
        "id": "pPLHYJ7B8GnU"
      },
      "source": [
        "vehicles_classification_df = vehicles_classification_df.drop(columns = ['price'])"
      ],
      "execution_count": 11,
      "outputs": []
    },
    {
      "cell_type": "code",
      "metadata": {
        "colab": {
          "base_uri": "https://localhost:8080/",
          "height": 444
        },
        "id": "nD3esI6e8PCK",
        "outputId": "4cf6baac-5c6e-4d49-a9e8-08f27d1d48f5"
      },
      "source": [
        "vehicles_classification_df"
      ],
      "execution_count": 12,
      "outputs": [
        {
          "output_type": "execute_result",
          "data": {
            "text/html": [
              "<div>\n",
              "<style scoped>\n",
              "    .dataframe tbody tr th:only-of-type {\n",
              "        vertical-align: middle;\n",
              "    }\n",
              "\n",
              "    .dataframe tbody tr th {\n",
              "        vertical-align: top;\n",
              "    }\n",
              "\n",
              "    .dataframe thead th {\n",
              "        text-align: right;\n",
              "    }\n",
              "</style>\n",
              "<table border=\"1\" class=\"dataframe\">\n",
              "  <thead>\n",
              "    <tr style=\"text-align: right;\">\n",
              "      <th></th>\n",
              "      <th>region</th>\n",
              "      <th>year</th>\n",
              "      <th>manufacturer</th>\n",
              "      <th>model</th>\n",
              "      <th>condition</th>\n",
              "      <th>cylinders</th>\n",
              "      <th>fuel</th>\n",
              "      <th>odometer</th>\n",
              "      <th>title_status</th>\n",
              "      <th>transmission</th>\n",
              "      <th>drive</th>\n",
              "      <th>size</th>\n",
              "      <th>type</th>\n",
              "      <th>paint_color</th>\n",
              "      <th>state</th>\n",
              "      <th>new_price</th>\n",
              "    </tr>\n",
              "  </thead>\n",
              "  <tbody>\n",
              "    <tr>\n",
              "      <th>0</th>\n",
              "      <td>16</td>\n",
              "      <td>2014.0</td>\n",
              "      <td>14</td>\n",
              "      <td>16289</td>\n",
              "      <td>2</td>\n",
              "      <td>5</td>\n",
              "      <td>17</td>\n",
              "      <td>57923.0</td>\n",
              "      <td>0</td>\n",
              "      <td>2</td>\n",
              "      <td>0</td>\n",
              "      <td>1</td>\n",
              "      <td>477</td>\n",
              "      <td>12693</td>\n",
              "      <td>1</td>\n",
              "      <td>4</td>\n",
              "    </tr>\n",
              "    <tr>\n",
              "      <th>1</th>\n",
              "      <td>16</td>\n",
              "      <td>2010.0</td>\n",
              "      <td>7</td>\n",
              "      <td>16608</td>\n",
              "      <td>2</td>\n",
              "      <td>5</td>\n",
              "      <td>17</td>\n",
              "      <td>71229.0</td>\n",
              "      <td>0</td>\n",
              "      <td>2</td>\n",
              "      <td>0</td>\n",
              "      <td>1</td>\n",
              "      <td>477</td>\n",
              "      <td>1749</td>\n",
              "      <td>1</td>\n",
              "      <td>3</td>\n",
              "    </tr>\n",
              "    <tr>\n",
              "      <th>2</th>\n",
              "      <td>16</td>\n",
              "      <td>2020.0</td>\n",
              "      <td>7</td>\n",
              "      <td>16652</td>\n",
              "      <td>2</td>\n",
              "      <td>5</td>\n",
              "      <td>17</td>\n",
              "      <td>19160.0</td>\n",
              "      <td>0</td>\n",
              "      <td>2</td>\n",
              "      <td>0</td>\n",
              "      <td>1</td>\n",
              "      <td>477</td>\n",
              "      <td>6348</td>\n",
              "      <td>1</td>\n",
              "      <td>4</td>\n",
              "    </tr>\n",
              "    <tr>\n",
              "      <th>3</th>\n",
              "      <td>16</td>\n",
              "      <td>2017.0</td>\n",
              "      <td>38</td>\n",
              "      <td>19258</td>\n",
              "      <td>2</td>\n",
              "      <td>5</td>\n",
              "      <td>17</td>\n",
              "      <td>41124.0</td>\n",
              "      <td>0</td>\n",
              "      <td>2</td>\n",
              "      <td>1</td>\n",
              "      <td>1</td>\n",
              "      <td>477</td>\n",
              "      <td>6348</td>\n",
              "      <td>1</td>\n",
              "      <td>4</td>\n",
              "    </tr>\n",
              "    <tr>\n",
              "      <th>4</th>\n",
              "      <td>16</td>\n",
              "      <td>2013.0</td>\n",
              "      <td>13</td>\n",
              "      <td>8260</td>\n",
              "      <td>0</td>\n",
              "      <td>4</td>\n",
              "      <td>17</td>\n",
              "      <td>128000.0</td>\n",
              "      <td>0</td>\n",
              "      <td>0</td>\n",
              "      <td>67</td>\n",
              "      <td>1</td>\n",
              "      <td>1467</td>\n",
              "      <td>1</td>\n",
              "      <td>1</td>\n",
              "      <td>2</td>\n",
              "    </tr>\n",
              "    <tr>\n",
              "      <th>...</th>\n",
              "      <td>...</td>\n",
              "      <td>...</td>\n",
              "      <td>...</td>\n",
              "      <td>...</td>\n",
              "      <td>...</td>\n",
              "      <td>...</td>\n",
              "      <td>...</td>\n",
              "      <td>...</td>\n",
              "      <td>...</td>\n",
              "      <td>...</td>\n",
              "      <td>...</td>\n",
              "      <td>...</td>\n",
              "      <td>...</td>\n",
              "      <td>...</td>\n",
              "      <td>...</td>\n",
              "      <td>...</td>\n",
              "    </tr>\n",
              "    <tr>\n",
              "      <th>366896</th>\n",
              "      <td>397</td>\n",
              "      <td>2019.0</td>\n",
              "      <td>30</td>\n",
              "      <td>12507</td>\n",
              "      <td>2</td>\n",
              "      <td>4</td>\n",
              "      <td>17</td>\n",
              "      <td>32226.0</td>\n",
              "      <td>0</td>\n",
              "      <td>2</td>\n",
              "      <td>43</td>\n",
              "      <td>1</td>\n",
              "      <td>739</td>\n",
              "      <td>3948</td>\n",
              "      <td>50</td>\n",
              "      <td>3</td>\n",
              "    </tr>\n",
              "    <tr>\n",
              "      <th>366897</th>\n",
              "      <td>397</td>\n",
              "      <td>2020.0</td>\n",
              "      <td>40</td>\n",
              "      <td>15703</td>\n",
              "      <td>2</td>\n",
              "      <td>6</td>\n",
              "      <td>17</td>\n",
              "      <td>12029.0</td>\n",
              "      <td>0</td>\n",
              "      <td>2</td>\n",
              "      <td>43</td>\n",
              "      <td>1</td>\n",
              "      <td>739</td>\n",
              "      <td>6348</td>\n",
              "      <td>50</td>\n",
              "      <td>4</td>\n",
              "    </tr>\n",
              "    <tr>\n",
              "      <th>366898</th>\n",
              "      <td>397</td>\n",
              "      <td>2020.0</td>\n",
              "      <td>6</td>\n",
              "      <td>20479</td>\n",
              "      <td>2</td>\n",
              "      <td>6</td>\n",
              "      <td>1</td>\n",
              "      <td>4174.0</td>\n",
              "      <td>0</td>\n",
              "      <td>2</td>\n",
              "      <td>0</td>\n",
              "      <td>1</td>\n",
              "      <td>373</td>\n",
              "      <td>12693</td>\n",
              "      <td>50</td>\n",
              "      <td>4</td>\n",
              "    </tr>\n",
              "    <tr>\n",
              "      <th>366899</th>\n",
              "      <td>397</td>\n",
              "      <td>2018.0</td>\n",
              "      <td>23</td>\n",
              "      <td>7379</td>\n",
              "      <td>2</td>\n",
              "      <td>4</td>\n",
              "      <td>17</td>\n",
              "      <td>30112.0</td>\n",
              "      <td>0</td>\n",
              "      <td>2</td>\n",
              "      <td>43</td>\n",
              "      <td>1</td>\n",
              "      <td>739</td>\n",
              "      <td>10988</td>\n",
              "      <td>50</td>\n",
              "      <td>3</td>\n",
              "    </tr>\n",
              "    <tr>\n",
              "      <th>366900</th>\n",
              "      <td>397</td>\n",
              "      <td>2019.0</td>\n",
              "      <td>4</td>\n",
              "      <td>1526</td>\n",
              "      <td>2</td>\n",
              "      <td>6</td>\n",
              "      <td>17</td>\n",
              "      <td>22716.0</td>\n",
              "      <td>0</td>\n",
              "      <td>2</td>\n",
              "      <td>67</td>\n",
              "      <td>1</td>\n",
              "      <td>269</td>\n",
              "      <td>3948</td>\n",
              "      <td>50</td>\n",
              "      <td>4</td>\n",
              "    </tr>\n",
              "  </tbody>\n",
              "</table>\n",
              "<p>366901 rows × 16 columns</p>\n",
              "</div>"
            ],
            "text/plain": [
              "        region    year  manufacturer  ...  paint_color  state  new_price\n",
              "0           16  2014.0            14  ...        12693      1          4\n",
              "1           16  2010.0             7  ...         1749      1          3\n",
              "2           16  2020.0             7  ...         6348      1          4\n",
              "3           16  2017.0            38  ...         6348      1          4\n",
              "4           16  2013.0            13  ...            1      1          2\n",
              "...        ...     ...           ...  ...          ...    ...        ...\n",
              "366896     397  2019.0            30  ...         3948     50          3\n",
              "366897     397  2020.0            40  ...         6348     50          4\n",
              "366898     397  2020.0             6  ...        12693     50          4\n",
              "366899     397  2018.0            23  ...        10988     50          3\n",
              "366900     397  2019.0             4  ...         3948     50          4\n",
              "\n",
              "[366901 rows x 16 columns]"
            ]
          },
          "metadata": {
            "tags": []
          },
          "execution_count": 12
        }
      ]
    },
    {
      "cell_type": "markdown",
      "metadata": {
        "id": "LdrxalJ78SFF"
      },
      "source": [
        "Classification df is set!"
      ]
    },
    {
      "cell_type": "code",
      "metadata": {
        "colab": {
          "base_uri": "https://localhost:8080/"
        },
        "id": "TDNeHfka86rZ",
        "outputId": "c5b6d35e-0365-4812-931b-c99601659d48"
      },
      "source": [
        "gc.collect()"
      ],
      "execution_count": 13,
      "outputs": [
        {
          "output_type": "execute_result",
          "data": {
            "text/plain": [
              "331"
            ]
          },
          "metadata": {
            "tags": []
          },
          "execution_count": 13
        }
      ]
    },
    {
      "cell_type": "markdown",
      "metadata": {
        "id": "w8YQF2i1yMTP"
      },
      "source": [
        "\n",
        "\n",
        "---\n",
        "\n",
        "\n",
        "\n",
        "---\n",
        "\n",
        "\n",
        "\n",
        "### Split into train and testing set"
      ]
    },
    {
      "cell_type": "markdown",
      "metadata": {
        "id": "tDr5ySAe8ctB"
      },
      "source": [
        "For classification"
      ]
    },
    {
      "cell_type": "code",
      "metadata": {
        "id": "6aGgsbWq8thS"
      },
      "source": [
        "Y_classification = vehicles_classification_df.new_price  #only the new price column is the target col\n",
        "X_classification = vehicles_classification_df.iloc[:,:-1]   #all columns apart from the new price column\n",
        "\n",
        "X_class_train, X_class_test, y_class_train, y_class_test = train_test_split(X_classification, Y_classification, test_size=0.33, random_state=42)  \n",
        "#Use a third for testing"
      ],
      "execution_count": 14,
      "outputs": []
    },
    {
      "cell_type": "markdown",
      "metadata": {
        "id": "BRuBhyZXFo2Q"
      },
      "source": [
        "Evaluation function for classification models"
      ]
    },
    {
      "cell_type": "code",
      "metadata": {
        "id": "TL73skdcFoLL"
      },
      "source": [
        "def evaluate_classification_model(y_true, y_pred):\n",
        "  accuracy = accuracy_score(y_true, y_pred)\n",
        "  print(\"The accuracy of the model is: \", accuracy)\n",
        "  print(\"The confusion matrix:\\n\", confusion_matrix(y_true, y_pred))\n",
        "  print(\"The precision score: \",precision_score(y_true, y_pred, average= 'weighted'))\n",
        "  print(\"The classification report:\\n\", classification_report(y_true, y_pred))\n",
        "  return accuracy\n"
      ],
      "execution_count": 30,
      "outputs": []
    },
    {
      "cell_type": "markdown",
      "metadata": {
        "id": "IoM6n-fOyUVF"
      },
      "source": [
        "## Train and evaluate models for CLASSIFICATION"
      ]
    },
    {
      "cell_type": "markdown",
      "metadata": {
        "id": "4dMadrLZCymA"
      },
      "source": [
        "**Random Forest Classifier**"
      ]
    },
    {
      "cell_type": "code",
      "metadata": {
        "colab": {
          "base_uri": "https://localhost:8080/"
        },
        "id": "K_PBWyenIPaG",
        "outputId": "1cae687d-06ea-481a-9023-e6c5b6e919c1"
      },
      "source": [
        "rf_class = RandomForestClassifier(max_depth=2, random_state=0)\n",
        "rf_class.fit(X_class_train, y_class_train)"
      ],
      "execution_count": 16,
      "outputs": [
        {
          "output_type": "execute_result",
          "data": {
            "text/plain": [
              "RandomForestClassifier(bootstrap=True, ccp_alpha=0.0, class_weight=None,\n",
              "                       criterion='gini', max_depth=2, max_features='auto',\n",
              "                       max_leaf_nodes=None, max_samples=None,\n",
              "                       min_impurity_decrease=0.0, min_impurity_split=None,\n",
              "                       min_samples_leaf=1, min_samples_split=2,\n",
              "                       min_weight_fraction_leaf=0.0, n_estimators=100,\n",
              "                       n_jobs=None, oob_score=False, random_state=0, verbose=0,\n",
              "                       warm_start=False)"
            ]
          },
          "metadata": {
            "tags": []
          },
          "execution_count": 16
        }
      ]
    },
    {
      "cell_type": "code",
      "metadata": {
        "id": "dpJNlVaZJBKU"
      },
      "source": [
        "y_class_rf_pred = rf_class.predict(X_class_test)"
      ],
      "execution_count": 17,
      "outputs": []
    },
    {
      "cell_type": "code",
      "metadata": {
        "colab": {
          "base_uri": "https://localhost:8080/"
        },
        "id": "W9V7JAkxJCBc",
        "outputId": "6c378b5e-e7b7-4ffb-8aa5-265c02573e3f"
      },
      "source": [
        "rf_class_accuracy = evaluate_classification_model(y_class_test, y_class_rf_pred)"
      ],
      "execution_count": 18,
      "outputs": [
        {
          "output_type": "stream",
          "text": [
            "The accuracy of the model is:  0.49520969953253274\n",
            "The confusion matrix:\n",
            " [[33812  6503    20     0     0     0]\n",
            " [14353 21732  1069     0     0     0]\n",
            " [ 3444 14715  4415     0     0     0]\n",
            " [ 1015  8657  5706     0     0     0]\n",
            " [  217  3674   909     0     0     0]\n",
            " [   22   716    99     0     0     0]]\n",
            "The precision score:  0.39953778830490855\n",
            "The classification report:\n",
            "               precision    recall  f1-score   support\n",
            "\n",
            "           1       0.64      0.84      0.73     40335\n",
            "           2       0.39      0.58      0.47     37154\n",
            "           3       0.36      0.20      0.25     22574\n",
            "           4       0.00      0.00      0.00     15378\n",
            "           5       0.00      0.00      0.00      4800\n",
            "           6       0.00      0.00      0.00       837\n",
            "\n",
            "    accuracy                           0.50    121078\n",
            "   macro avg       0.23      0.27      0.24    121078\n",
            "weighted avg       0.40      0.50      0.43    121078\n",
            "\n"
          ],
          "name": "stdout"
        }
      ]
    },
    {
      "cell_type": "markdown",
      "metadata": {
        "id": "ZEM3B_83Cyov"
      },
      "source": [
        "**K-NEAREST neighbours Classifier**"
      ]
    },
    {
      "cell_type": "code",
      "metadata": {
        "colab": {
          "base_uri": "https://localhost:8080/"
        },
        "id": "HWJTeEw-JJLj",
        "outputId": "9552211a-8bf6-4dd6-f353-b5afeae8e4d7"
      },
      "source": [
        "knn_class = KNeighborsClassifier(n_neighbors=6) #because of the 6 classes\n",
        "knn_class.fit(X_class_train, y_class_train)"
      ],
      "execution_count": 19,
      "outputs": [
        {
          "output_type": "execute_result",
          "data": {
            "text/plain": [
              "KNeighborsClassifier(algorithm='auto', leaf_size=30, metric='minkowski',\n",
              "                     metric_params=None, n_jobs=None, n_neighbors=6, p=2,\n",
              "                     weights='uniform')"
            ]
          },
          "metadata": {
            "tags": []
          },
          "execution_count": 19
        }
      ]
    },
    {
      "cell_type": "code",
      "metadata": {
        "id": "GsEIAUAXKJFA"
      },
      "source": [
        "y_class_knn_pred = knn_class.predict(X_class_test)"
      ],
      "execution_count": 20,
      "outputs": []
    },
    {
      "cell_type": "code",
      "metadata": {
        "colab": {
          "base_uri": "https://localhost:8080/"
        },
        "id": "VMHCRQKSKME9",
        "outputId": "aa95df0c-b2c0-4de4-ae69-71550006ba1b"
      },
      "source": [
        "knn_class_accuracy = evaluate_classification_model(y_class_test, y_class_knn_pred)"
      ],
      "execution_count": 21,
      "outputs": [
        {
          "output_type": "stream",
          "text": [
            "The accuracy of the model is:  0.6660252068914254\n",
            "The confusion matrix:\n",
            " [[31213  6610  1556   725   207    24]\n",
            " [10470 21774  3207  1269   391    43]\n",
            " [ 2550  4792 13638  1207   344    43]\n",
            " [  895  1875  1426 10861   299    22]\n",
            " [  343   622   522   545  2742    26]\n",
            " [   50   116    82   109    67   413]]\n",
            "The precision score:  0.6651476826225182\n",
            "The classification report:\n",
            "               precision    recall  f1-score   support\n",
            "\n",
            "           1       0.69      0.77      0.73     40335\n",
            "           2       0.61      0.59      0.60     37154\n",
            "           3       0.67      0.60      0.63     22574\n",
            "           4       0.74      0.71      0.72     15378\n",
            "           5       0.68      0.57      0.62      4800\n",
            "           6       0.72      0.49      0.59       837\n",
            "\n",
            "    accuracy                           0.67    121078\n",
            "   macro avg       0.68      0.62      0.65    121078\n",
            "weighted avg       0.67      0.67      0.66    121078\n",
            "\n"
          ],
          "name": "stdout"
        }
      ]
    },
    {
      "cell_type": "markdown",
      "metadata": {
        "id": "8qf6eAghLdW3"
      },
      "source": [
        "**Neural network (MLP) Classifier**"
      ]
    },
    {
      "cell_type": "code",
      "metadata": {
        "id": "xC6Vb7OaLb7N"
      },
      "source": [
        "neural_net = MLPClassifier(random_state=1, max_iter=50).fit(X_class_train, y_class_train)"
      ],
      "execution_count": 22,
      "outputs": []
    },
    {
      "cell_type": "code",
      "metadata": {
        "id": "0N9OsdYIL1RW"
      },
      "source": [
        "y_class_mlp_pred = neural_net.predict(X_class_test)\n"
      ],
      "execution_count": 23,
      "outputs": []
    },
    {
      "cell_type": "code",
      "metadata": {
        "colab": {
          "base_uri": "https://localhost:8080/"
        },
        "id": "DdtVVh2nL7hV",
        "outputId": "357ab6e2-ce09-440c-bd99-0321ed50c3a5"
      },
      "source": [
        "mlp_class_accuracy = evaluate_classification_model(y_class_test, y_class_mlp_pred)"
      ],
      "execution_count": 24,
      "outputs": [
        {
          "output_type": "stream",
          "text": [
            "The accuracy of the model is:  0.4836882009944003\n",
            "The confusion matrix:\n",
            " [[29944  8818   732   473    94   274]\n",
            " [13181 19265  2089  2213   172   234]\n",
            " [ 2838 11215  3559  4438   222   302]\n",
            " [  833  5568  2848  5472   313   344]\n",
            " [  318  1937   666  1441   189   249]\n",
            " [   28   317    89   234    34   135]]\n",
            "The precision score:  0.46015229864532253\n",
            "The classification report:\n",
            "               precision    recall  f1-score   support\n",
            "\n",
            "           1       0.64      0.74      0.68     40335\n",
            "           2       0.41      0.52      0.46     37154\n",
            "           3       0.36      0.16      0.22     22574\n",
            "           4       0.38      0.36      0.37     15378\n",
            "           5       0.18      0.04      0.06      4800\n",
            "           6       0.09      0.16      0.11       837\n",
            "\n",
            "    accuracy                           0.48    121078\n",
            "   macro avg       0.34      0.33      0.32    121078\n",
            "weighted avg       0.46      0.48      0.46    121078\n",
            "\n"
          ],
          "name": "stdout"
        }
      ]
    },
    {
      "cell_type": "markdown",
      "metadata": {
        "id": "5zOADJR2C-oi"
      },
      "source": [
        "**Compare models and choose the best**"
      ]
    },
    {
      "cell_type": "code",
      "metadata": {
        "colab": {
          "base_uri": "https://localhost:8080/",
          "height": 300
        },
        "id": "uYi9UMVjCA8Y",
        "outputId": "0a305a7b-32b4-4af0-a671-0dd91f4a3f17"
      },
      "source": [
        "x = [ 'Random Forest model', 'KNN model', 'MLP model']\n",
        "y = [ rf_class_accuracy, knn_class_accuracy, mlp_class_accuracy]\n",
        "plt.bar(x,y, color = 'green')\n",
        "plt.title('Classification accuracies for different models')\n",
        "plt.ylabel('Accuracy')\n",
        "plt.show()\n",
        "print('Average across all models: ', np.mean(y))"
      ],
      "execution_count": 62,
      "outputs": [
        {
          "output_type": "display_data",
          "data": {
            "image/png": "[encoded data removed]",
            "text/plain": [
              "<Figure size 432x288 with 1 Axes>"
            ]
          },
          "metadata": {
            "tags": [],
            "needs_background": "light"
          }
        },
        {
          "output_type": "stream",
          "text": [
            "Average across all models:  0.5483077024727862\n"
          ],
          "name": "stdout"
        }
      ]
    },
    {
      "cell_type": "markdown",
      "metadata": {
        "id": "CymmC83_RD5Q"
      },
      "source": [
        "Accuracy for Random forest model: 0.495\n",
        "\n",
        "Accuracy for KNN model: 0.666\n",
        "\n",
        "Accuracy for MLP model: 0.484"
      ]
    },
    {
      "cell_type": "markdown",
      "metadata": {
        "id": "IflwGiOvRZaJ"
      },
      "source": [
        "### **KNN produces the best accuracy for this classification problem with an accuracy of 66%**"
      ]
    },
    {
      "cell_type": "markdown",
      "metadata": {
        "id": "_6v7mn_oyUed"
      },
      "source": [
        "\n",
        "\n",
        "\n",
        "---\n",
        "\n",
        "\n",
        "\n",
        "---\n",
        "\n",
        "\n",
        "### Split into train and testing set"
      ]
    },
    {
      "cell_type": "markdown",
      "metadata": {
        "id": "cTJvp4mN8fNi"
      },
      "source": [
        "For regression"
      ]
    },
    {
      "cell_type": "code",
      "metadata": {
        "colab": {
          "base_uri": "https://localhost:8080/",
          "height": 444
        },
        "id": "4_RrlZoo92hu",
        "outputId": "b56c4474-19ea-43db-90d7-8d17bde6ff6e"
      },
      "source": [
        "vehicles_regression_df"
      ],
      "execution_count": 32,
      "outputs": [
        {
          "output_type": "execute_result",
          "data": {
            "text/html": [
              "<div>\n",
              "<style scoped>\n",
              "    .dataframe tbody tr th:only-of-type {\n",
              "        vertical-align: middle;\n",
              "    }\n",
              "\n",
              "    .dataframe tbody tr th {\n",
              "        vertical-align: top;\n",
              "    }\n",
              "\n",
              "    .dataframe thead th {\n",
              "        text-align: right;\n",
              "    }\n",
              "</style>\n",
              "<table border=\"1\" class=\"dataframe\">\n",
              "  <thead>\n",
              "    <tr style=\"text-align: right;\">\n",
              "      <th></th>\n",
              "      <th>region</th>\n",
              "      <th>price</th>\n",
              "      <th>year</th>\n",
              "      <th>manufacturer</th>\n",
              "      <th>model</th>\n",
              "      <th>condition</th>\n",
              "      <th>cylinders</th>\n",
              "      <th>fuel</th>\n",
              "      <th>odometer</th>\n",
              "      <th>title_status</th>\n",
              "      <th>transmission</th>\n",
              "      <th>drive</th>\n",
              "      <th>size</th>\n",
              "      <th>type</th>\n",
              "      <th>paint_color</th>\n",
              "      <th>state</th>\n",
              "    </tr>\n",
              "  </thead>\n",
              "  <tbody>\n",
              "    <tr>\n",
              "      <th>0</th>\n",
              "      <td>16</td>\n",
              "      <td>33590.0</td>\n",
              "      <td>2014.0</td>\n",
              "      <td>14</td>\n",
              "      <td>16289</td>\n",
              "      <td>2</td>\n",
              "      <td>5</td>\n",
              "      <td>17</td>\n",
              "      <td>57923.0</td>\n",
              "      <td>0</td>\n",
              "      <td>2</td>\n",
              "      <td>0</td>\n",
              "      <td>1</td>\n",
              "      <td>477</td>\n",
              "      <td>12693</td>\n",
              "      <td>1</td>\n",
              "    </tr>\n",
              "    <tr>\n",
              "      <th>1</th>\n",
              "      <td>16</td>\n",
              "      <td>22590.0</td>\n",
              "      <td>2010.0</td>\n",
              "      <td>7</td>\n",
              "      <td>16608</td>\n",
              "      <td>2</td>\n",
              "      <td>5</td>\n",
              "      <td>17</td>\n",
              "      <td>71229.0</td>\n",
              "      <td>0</td>\n",
              "      <td>2</td>\n",
              "      <td>0</td>\n",
              "      <td>1</td>\n",
              "      <td>477</td>\n",
              "      <td>1749</td>\n",
              "      <td>1</td>\n",
              "    </tr>\n",
              "    <tr>\n",
              "      <th>2</th>\n",
              "      <td>16</td>\n",
              "      <td>39590.0</td>\n",
              "      <td>2020.0</td>\n",
              "      <td>7</td>\n",
              "      <td>16652</td>\n",
              "      <td>2</td>\n",
              "      <td>5</td>\n",
              "      <td>17</td>\n",
              "      <td>19160.0</td>\n",
              "      <td>0</td>\n",
              "      <td>2</td>\n",
              "      <td>0</td>\n",
              "      <td>1</td>\n",
              "      <td>477</td>\n",
              "      <td>6348</td>\n",
              "      <td>1</td>\n",
              "    </tr>\n",
              "    <tr>\n",
              "      <th>3</th>\n",
              "      <td>16</td>\n",
              "      <td>30990.0</td>\n",
              "      <td>2017.0</td>\n",
              "      <td>38</td>\n",
              "      <td>19258</td>\n",
              "      <td>2</td>\n",
              "      <td>5</td>\n",
              "      <td>17</td>\n",
              "      <td>41124.0</td>\n",
              "      <td>0</td>\n",
              "      <td>2</td>\n",
              "      <td>1</td>\n",
              "      <td>1</td>\n",
              "      <td>477</td>\n",
              "      <td>6348</td>\n",
              "      <td>1</td>\n",
              "    </tr>\n",
              "    <tr>\n",
              "      <th>4</th>\n",
              "      <td>16</td>\n",
              "      <td>15000.0</td>\n",
              "      <td>2013.0</td>\n",
              "      <td>13</td>\n",
              "      <td>8260</td>\n",
              "      <td>0</td>\n",
              "      <td>4</td>\n",
              "      <td>17</td>\n",
              "      <td>128000.0</td>\n",
              "      <td>0</td>\n",
              "      <td>0</td>\n",
              "      <td>67</td>\n",
              "      <td>1</td>\n",
              "      <td>1467</td>\n",
              "      <td>1</td>\n",
              "      <td>1</td>\n",
              "    </tr>\n",
              "    <tr>\n",
              "      <th>...</th>\n",
              "      <td>...</td>\n",
              "      <td>...</td>\n",
              "      <td>...</td>\n",
              "      <td>...</td>\n",
              "      <td>...</td>\n",
              "      <td>...</td>\n",
              "      <td>...</td>\n",
              "      <td>...</td>\n",
              "      <td>...</td>\n",
              "      <td>...</td>\n",
              "      <td>...</td>\n",
              "      <td>...</td>\n",
              "      <td>...</td>\n",
              "      <td>...</td>\n",
              "      <td>...</td>\n",
              "      <td>...</td>\n",
              "    </tr>\n",
              "    <tr>\n",
              "      <th>366896</th>\n",
              "      <td>397</td>\n",
              "      <td>23590.0</td>\n",
              "      <td>2019.0</td>\n",
              "      <td>30</td>\n",
              "      <td>12507</td>\n",
              "      <td>2</td>\n",
              "      <td>4</td>\n",
              "      <td>17</td>\n",
              "      <td>32226.0</td>\n",
              "      <td>0</td>\n",
              "      <td>2</td>\n",
              "      <td>43</td>\n",
              "      <td>1</td>\n",
              "      <td>739</td>\n",
              "      <td>3948</td>\n",
              "      <td>50</td>\n",
              "    </tr>\n",
              "    <tr>\n",
              "      <th>366897</th>\n",
              "      <td>397</td>\n",
              "      <td>30590.0</td>\n",
              "      <td>2020.0</td>\n",
              "      <td>40</td>\n",
              "      <td>15703</td>\n",
              "      <td>2</td>\n",
              "      <td>6</td>\n",
              "      <td>17</td>\n",
              "      <td>12029.0</td>\n",
              "      <td>0</td>\n",
              "      <td>2</td>\n",
              "      <td>43</td>\n",
              "      <td>1</td>\n",
              "      <td>739</td>\n",
              "      <td>6348</td>\n",
              "      <td>50</td>\n",
              "    </tr>\n",
              "    <tr>\n",
              "      <th>366898</th>\n",
              "      <td>397</td>\n",
              "      <td>34990.0</td>\n",
              "      <td>2020.0</td>\n",
              "      <td>6</td>\n",
              "      <td>20479</td>\n",
              "      <td>2</td>\n",
              "      <td>6</td>\n",
              "      <td>1</td>\n",
              "      <td>4174.0</td>\n",
              "      <td>0</td>\n",
              "      <td>2</td>\n",
              "      <td>0</td>\n",
              "      <td>1</td>\n",
              "      <td>373</td>\n",
              "      <td>12693</td>\n",
              "      <td>50</td>\n",
              "    </tr>\n",
              "    <tr>\n",
              "      <th>366899</th>\n",
              "      <td>397</td>\n",
              "      <td>28990.0</td>\n",
              "      <td>2018.0</td>\n",
              "      <td>23</td>\n",
              "      <td>7379</td>\n",
              "      <td>2</td>\n",
              "      <td>4</td>\n",
              "      <td>17</td>\n",
              "      <td>30112.0</td>\n",
              "      <td>0</td>\n",
              "      <td>2</td>\n",
              "      <td>43</td>\n",
              "      <td>1</td>\n",
              "      <td>739</td>\n",
              "      <td>10988</td>\n",
              "      <td>50</td>\n",
              "    </tr>\n",
              "    <tr>\n",
              "      <th>366900</th>\n",
              "      <td>397</td>\n",
              "      <td>30590.0</td>\n",
              "      <td>2019.0</td>\n",
              "      <td>4</td>\n",
              "      <td>1526</td>\n",
              "      <td>2</td>\n",
              "      <td>6</td>\n",
              "      <td>17</td>\n",
              "      <td>22716.0</td>\n",
              "      <td>0</td>\n",
              "      <td>2</td>\n",
              "      <td>67</td>\n",
              "      <td>1</td>\n",
              "      <td>269</td>\n",
              "      <td>3948</td>\n",
              "      <td>50</td>\n",
              "    </tr>\n",
              "  </tbody>\n",
              "</table>\n",
              "<p>366901 rows × 16 columns</p>\n",
              "</div>"
            ],
            "text/plain": [
              "        region    price    year  manufacturer  ...  size  type  paint_color  state\n",
              "0           16  33590.0  2014.0            14  ...     1   477        12693      1\n",
              "1           16  22590.0  2010.0             7  ...     1   477         1749      1\n",
              "2           16  39590.0  2020.0             7  ...     1   477         6348      1\n",
              "3           16  30990.0  2017.0            38  ...     1   477         6348      1\n",
              "4           16  15000.0  2013.0            13  ...     1  1467            1      1\n",
              "...        ...      ...     ...           ...  ...   ...   ...          ...    ...\n",
              "366896     397  23590.0  2019.0            30  ...     1   739         3948     50\n",
              "366897     397  30590.0  2020.0            40  ...     1   739         6348     50\n",
              "366898     397  34990.0  2020.0             6  ...     1   373        12693     50\n",
              "366899     397  28990.0  2018.0            23  ...     1   739        10988     50\n",
              "366900     397  30590.0  2019.0             4  ...     1   269         3948     50\n",
              "\n",
              "[366901 rows x 16 columns]"
            ]
          },
          "metadata": {
            "tags": []
          },
          "execution_count": 32
        }
      ]
    },
    {
      "cell_type": "code",
      "metadata": {
        "id": "CupTlrhB9ySA"
      },
      "source": [
        "#move price column to the end\n",
        "vehicles_regression_df = vehicles_regression_df.drop(columns=['price'])\n",
        "vehicles_regression_df['price'] = vehicles_df.price"
      ],
      "execution_count": 33,
      "outputs": []
    },
    {
      "cell_type": "code",
      "metadata": {
        "colab": {
          "base_uri": "https://localhost:8080/",
          "height": 444
        },
        "id": "-nwuc83F_WwH",
        "outputId": "3373db1f-3bc1-4058-f112-c9f7b8ad9388"
      },
      "source": [
        "vehicles_regression_df"
      ],
      "execution_count": 34,
      "outputs": [
        {
          "output_type": "execute_result",
          "data": {
            "text/html": [
              "<div>\n",
              "<style scoped>\n",
              "    .dataframe tbody tr th:only-of-type {\n",
              "        vertical-align: middle;\n",
              "    }\n",
              "\n",
              "    .dataframe tbody tr th {\n",
              "        vertical-align: top;\n",
              "    }\n",
              "\n",
              "    .dataframe thead th {\n",
              "        text-align: right;\n",
              "    }\n",
              "</style>\n",
              "<table border=\"1\" class=\"dataframe\">\n",
              "  <thead>\n",
              "    <tr style=\"text-align: right;\">\n",
              "      <th></th>\n",
              "      <th>region</th>\n",
              "      <th>year</th>\n",
              "      <th>manufacturer</th>\n",
              "      <th>model</th>\n",
              "      <th>condition</th>\n",
              "      <th>cylinders</th>\n",
              "      <th>fuel</th>\n",
              "      <th>odometer</th>\n",
              "      <th>title_status</th>\n",
              "      <th>transmission</th>\n",
              "      <th>drive</th>\n",
              "      <th>size</th>\n",
              "      <th>type</th>\n",
              "      <th>paint_color</th>\n",
              "      <th>state</th>\n",
              "      <th>price</th>\n",
              "    </tr>\n",
              "  </thead>\n",
              "  <tbody>\n",
              "    <tr>\n",
              "      <th>0</th>\n",
              "      <td>16</td>\n",
              "      <td>2014.0</td>\n",
              "      <td>14</td>\n",
              "      <td>16289</td>\n",
              "      <td>2</td>\n",
              "      <td>5</td>\n",
              "      <td>17</td>\n",
              "      <td>57923.0</td>\n",
              "      <td>0</td>\n",
              "      <td>2</td>\n",
              "      <td>0</td>\n",
              "      <td>1</td>\n",
              "      <td>477</td>\n",
              "      <td>12693</td>\n",
              "      <td>1</td>\n",
              "      <td>33590.0</td>\n",
              "    </tr>\n",
              "    <tr>\n",
              "      <th>1</th>\n",
              "      <td>16</td>\n",
              "      <td>2010.0</td>\n",
              "      <td>7</td>\n",
              "      <td>16608</td>\n",
              "      <td>2</td>\n",
              "      <td>5</td>\n",
              "      <td>17</td>\n",
              "      <td>71229.0</td>\n",
              "      <td>0</td>\n",
              "      <td>2</td>\n",
              "      <td>0</td>\n",
              "      <td>1</td>\n",
              "      <td>477</td>\n",
              "      <td>1749</td>\n",
              "      <td>1</td>\n",
              "      <td>22590.0</td>\n",
              "    </tr>\n",
              "    <tr>\n",
              "      <th>2</th>\n",
              "      <td>16</td>\n",
              "      <td>2020.0</td>\n",
              "      <td>7</td>\n",
              "      <td>16652</td>\n",
              "      <td>2</td>\n",
              "      <td>5</td>\n",
              "      <td>17</td>\n",
              "      <td>19160.0</td>\n",
              "      <td>0</td>\n",
              "      <td>2</td>\n",
              "      <td>0</td>\n",
              "      <td>1</td>\n",
              "      <td>477</td>\n",
              "      <td>6348</td>\n",
              "      <td>1</td>\n",
              "      <td>39590.0</td>\n",
              "    </tr>\n",
              "    <tr>\n",
              "      <th>3</th>\n",
              "      <td>16</td>\n",
              "      <td>2017.0</td>\n",
              "      <td>38</td>\n",
              "      <td>19258</td>\n",
              "      <td>2</td>\n",
              "      <td>5</td>\n",
              "      <td>17</td>\n",
              "      <td>41124.0</td>\n",
              "      <td>0</td>\n",
              "      <td>2</td>\n",
              "      <td>1</td>\n",
              "      <td>1</td>\n",
              "      <td>477</td>\n",
              "      <td>6348</td>\n",
              "      <td>1</td>\n",
              "      <td>30990.0</td>\n",
              "    </tr>\n",
              "    <tr>\n",
              "      <th>4</th>\n",
              "      <td>16</td>\n",
              "      <td>2013.0</td>\n",
              "      <td>13</td>\n",
              "      <td>8260</td>\n",
              "      <td>0</td>\n",
              "      <td>4</td>\n",
              "      <td>17</td>\n",
              "      <td>128000.0</td>\n",
              "      <td>0</td>\n",
              "      <td>0</td>\n",
              "      <td>67</td>\n",
              "      <td>1</td>\n",
              "      <td>1467</td>\n",
              "      <td>1</td>\n",
              "      <td>1</td>\n",
              "      <td>15000.0</td>\n",
              "    </tr>\n",
              "    <tr>\n",
              "      <th>...</th>\n",
              "      <td>...</td>\n",
              "      <td>...</td>\n",
              "      <td>...</td>\n",
              "      <td>...</td>\n",
              "      <td>...</td>\n",
              "      <td>...</td>\n",
              "      <td>...</td>\n",
              "      <td>...</td>\n",
              "      <td>...</td>\n",
              "      <td>...</td>\n",
              "      <td>...</td>\n",
              "      <td>...</td>\n",
              "      <td>...</td>\n",
              "      <td>...</td>\n",
              "      <td>...</td>\n",
              "      <td>...</td>\n",
              "    </tr>\n",
              "    <tr>\n",
              "      <th>366896</th>\n",
              "      <td>397</td>\n",
              "      <td>2019.0</td>\n",
              "      <td>30</td>\n",
              "      <td>12507</td>\n",
              "      <td>2</td>\n",
              "      <td>4</td>\n",
              "      <td>17</td>\n",
              "      <td>32226.0</td>\n",
              "      <td>0</td>\n",
              "      <td>2</td>\n",
              "      <td>43</td>\n",
              "      <td>1</td>\n",
              "      <td>739</td>\n",
              "      <td>3948</td>\n",
              "      <td>50</td>\n",
              "      <td>23590.0</td>\n",
              "    </tr>\n",
              "    <tr>\n",
              "      <th>366897</th>\n",
              "      <td>397</td>\n",
              "      <td>2020.0</td>\n",
              "      <td>40</td>\n",
              "      <td>15703</td>\n",
              "      <td>2</td>\n",
              "      <td>6</td>\n",
              "      <td>17</td>\n",
              "      <td>12029.0</td>\n",
              "      <td>0</td>\n",
              "      <td>2</td>\n",
              "      <td>43</td>\n",
              "      <td>1</td>\n",
              "      <td>739</td>\n",
              "      <td>6348</td>\n",
              "      <td>50</td>\n",
              "      <td>30590.0</td>\n",
              "    </tr>\n",
              "    <tr>\n",
              "      <th>366898</th>\n",
              "      <td>397</td>\n",
              "      <td>2020.0</td>\n",
              "      <td>6</td>\n",
              "      <td>20479</td>\n",
              "      <td>2</td>\n",
              "      <td>6</td>\n",
              "      <td>1</td>\n",
              "      <td>4174.0</td>\n",
              "      <td>0</td>\n",
              "      <td>2</td>\n",
              "      <td>0</td>\n",
              "      <td>1</td>\n",
              "      <td>373</td>\n",
              "      <td>12693</td>\n",
              "      <td>50</td>\n",
              "      <td>34990.0</td>\n",
              "    </tr>\n",
              "    <tr>\n",
              "      <th>366899</th>\n",
              "      <td>397</td>\n",
              "      <td>2018.0</td>\n",
              "      <td>23</td>\n",
              "      <td>7379</td>\n",
              "      <td>2</td>\n",
              "      <td>4</td>\n",
              "      <td>17</td>\n",
              "      <td>30112.0</td>\n",
              "      <td>0</td>\n",
              "      <td>2</td>\n",
              "      <td>43</td>\n",
              "      <td>1</td>\n",
              "      <td>739</td>\n",
              "      <td>10988</td>\n",
              "      <td>50</td>\n",
              "      <td>28990.0</td>\n",
              "    </tr>\n",
              "    <tr>\n",
              "      <th>366900</th>\n",
              "      <td>397</td>\n",
              "      <td>2019.0</td>\n",
              "      <td>4</td>\n",
              "      <td>1526</td>\n",
              "      <td>2</td>\n",
              "      <td>6</td>\n",
              "      <td>17</td>\n",
              "      <td>22716.0</td>\n",
              "      <td>0</td>\n",
              "      <td>2</td>\n",
              "      <td>67</td>\n",
              "      <td>1</td>\n",
              "      <td>269</td>\n",
              "      <td>3948</td>\n",
              "      <td>50</td>\n",
              "      <td>30590.0</td>\n",
              "    </tr>\n",
              "  </tbody>\n",
              "</table>\n",
              "<p>366901 rows × 16 columns</p>\n",
              "</div>"
            ],
            "text/plain": [
              "        region    year  manufacturer  model  ...  type  paint_color  state    price\n",
              "0           16  2014.0            14  16289  ...   477        12693      1  33590.0\n",
              "1           16  2010.0             7  16608  ...   477         1749      1  22590.0\n",
              "2           16  2020.0             7  16652  ...   477         6348      1  39590.0\n",
              "3           16  2017.0            38  19258  ...   477         6348      1  30990.0\n",
              "4           16  2013.0            13   8260  ...  1467            1      1  15000.0\n",
              "...        ...     ...           ...    ...  ...   ...          ...    ...      ...\n",
              "366896     397  2019.0            30  12507  ...   739         3948     50  23590.0\n",
              "366897     397  2020.0            40  15703  ...   739         6348     50  30590.0\n",
              "366898     397  2020.0             6  20479  ...   373        12693     50  34990.0\n",
              "366899     397  2018.0            23   7379  ...   739        10988     50  28990.0\n",
              "366900     397  2019.0             4   1526  ...   269         3948     50  30590.0\n",
              "\n",
              "[366901 rows x 16 columns]"
            ]
          },
          "metadata": {
            "tags": []
          },
          "execution_count": 34
        }
      ]
    },
    {
      "cell_type": "code",
      "metadata": {
        "id": "L4zxokKD_qeQ"
      },
      "source": [
        "Y_regression = vehicles_regression_df.price  #only the new price column is the target col\n",
        "X_regression = vehicles_regression_df.iloc[:,:-1]   #all columns apart from the new price column\n",
        "\n",
        "X_regr_train, X_regr_test, y_regr_train, y_regr_test = train_test_split(X_regression, Y_regression, test_size=0.33, random_state=42)  \n",
        "#Use a third for testing"
      ],
      "execution_count": 35,
      "outputs": []
    },
    {
      "cell_type": "markdown",
      "metadata": {
        "id": "vKGb8VZ7Sh34"
      },
      "source": [
        "Evaluation function for regression models"
      ]
    },
    {
      "cell_type": "code",
      "metadata": {
        "id": "pcsx2vYpSh38"
      },
      "source": [
        "def evaluate_regression_model(y_true, y_pred):\n",
        "  mape = np.mean(np.abs((y_true - y_pred)/y_true))\n",
        "  print(\"The MAPE of the model is: \", mape)\n",
        "  print(\"The RMSE of the model is: \", np.sqrt(mean_squared_error(y_true, y_pred)))\n",
        "  print(\"The MAE of the model is: \",mean_absolute_error(y_true, y_pred))\n",
        "  r_score = r2_score(y_true, y_pred)\n",
        "  print(\"The R score of the model is:\", r_score)\n",
        "  return r_score\n"
      ],
      "execution_count": 53,
      "outputs": []
    },
    {
      "cell_type": "markdown",
      "metadata": {
        "id": "8RS4S0OjBGb9"
      },
      "source": [
        "## Train and evaluate models for REGRESSION"
      ]
    },
    {
      "cell_type": "markdown",
      "metadata": {
        "id": "bUMuHQHkRmMr"
      },
      "source": [
        "**Random Forest Regressor**"
      ]
    },
    {
      "cell_type": "code",
      "metadata": {
        "colab": {
          "base_uri": "https://localhost:8080/"
        },
        "id": "7Rowi4cOS9DE",
        "outputId": "fdb786b3-951a-4b55-b615-0a07876ba1cf"
      },
      "source": [
        "rf_regr = RandomForestRegressor(n_estimators=50, random_state=0)\n",
        "rf_regr.fit(X_regr_train, y_regr_train)"
      ],
      "execution_count": 37,
      "outputs": [
        {
          "output_type": "execute_result",
          "data": {
            "text/plain": [
              "RandomForestRegressor(bootstrap=True, ccp_alpha=0.0, criterion='mse',\n",
              "                      max_depth=None, max_features='auto', max_leaf_nodes=None,\n",
              "                      max_samples=None, min_impurity_decrease=0.0,\n",
              "                      min_impurity_split=None, min_samples_leaf=1,\n",
              "                      min_samples_split=2, min_weight_fraction_leaf=0.0,\n",
              "                      n_estimators=50, n_jobs=None, oob_score=False,\n",
              "                      random_state=0, verbose=0, warm_start=False)"
            ]
          },
          "metadata": {
            "tags": []
          },
          "execution_count": 37
        }
      ]
    },
    {
      "cell_type": "code",
      "metadata": {
        "id": "aAz8ZDfXS9DL"
      },
      "source": [
        "y_regr_rf_pred = rf_regr.predict(X_regr_test)"
      ],
      "execution_count": 38,
      "outputs": []
    },
    {
      "cell_type": "code",
      "metadata": {
        "colab": {
          "base_uri": "https://localhost:8080/"
        },
        "id": "ZqbEyEzaS9DO",
        "outputId": "24554bca-1a52-4e6b-a72c-6b2a5c6e6897"
      },
      "source": [
        "rf_regr_accuracy = evaluate_regression_model(y_regr_test, y_regr_rf_pred)"
      ],
      "execution_count": 54,
      "outputs": [
        {
          "output_type": "stream",
          "text": [
            "The MAPE of the model is:  16.442640262301957\n",
            "The RMSE of the model is:  4423.749284562855\n",
            "The MAE of the model is:  2355.5543319691724\n",
            "The R score of the model is: 0.8650685244433403\n"
          ],
          "name": "stdout"
        }
      ]
    },
    {
      "cell_type": "markdown",
      "metadata": {
        "id": "VAvXVGCIRsYK"
      },
      "source": [
        "**K-NEAREST Neighbours Regressor**"
      ]
    },
    {
      "cell_type": "code",
      "metadata": {
        "colab": {
          "base_uri": "https://localhost:8080/"
        },
        "id": "56No4rI_S9DS",
        "outputId": "dbd5c3b4-93ad-4538-bb1e-5b609a188760"
      },
      "source": [
        "knn_regr= KNeighborsRegressor(n_neighbors=6) #because of the 6 classes\n",
        "knn_regr.fit(X_regr_train, y_regr_train)"
      ],
      "execution_count": 47,
      "outputs": [
        {
          "output_type": "execute_result",
          "data": {
            "text/plain": [
              "KNeighborsRegressor(algorithm='auto', leaf_size=30, metric='minkowski',\n",
              "                    metric_params=None, n_jobs=None, n_neighbors=6, p=2,\n",
              "                    weights='uniform')"
            ]
          },
          "metadata": {
            "tags": []
          },
          "execution_count": 47
        }
      ]
    },
    {
      "cell_type": "code",
      "metadata": {
        "id": "gQpoxuu0S9DU"
      },
      "source": [
        "y_regr_knn_pred = knn_regr.predict(X_regr_test)"
      ],
      "execution_count": 48,
      "outputs": []
    },
    {
      "cell_type": "code",
      "metadata": {
        "colab": {
          "base_uri": "https://localhost:8080/"
        },
        "id": "8Hob_GCuS9DV",
        "outputId": "6f4d4466-a3e3-40bc-d7bd-81776306b43d"
      },
      "source": [
        "knn_regr_accuracy = evaluate_regression_model(y_regr_test, y_regr_knn_pred)"
      ],
      "execution_count": 55,
      "outputs": [
        {
          "output_type": "stream",
          "text": [
            "The MAPE of the model is:  31.890210559041133\n",
            "The RMSE of the model is:  7653.8933270105645\n",
            "The MAE of the model is:  4890.873225661694\n",
            "The R score of the model is: 0.5960784082799213\n"
          ],
          "name": "stdout"
        }
      ]
    },
    {
      "cell_type": "markdown",
      "metadata": {
        "id": "1q3qxI25RsbP"
      },
      "source": [
        "**Neural network (MLP) Regressor**"
      ]
    },
    {
      "cell_type": "code",
      "metadata": {
        "id": "1DDNsq0SS9DZ"
      },
      "source": [
        "neural_net = MLPRegressor(random_state=1, max_iter=50).fit(X_regr_train, y_regr_train)"
      ],
      "execution_count": 50,
      "outputs": []
    },
    {
      "cell_type": "code",
      "metadata": {
        "id": "Cn_gLC6BS9Db"
      },
      "source": [
        "y_regr_mlp_pred = neural_net.predict(X_regr_test)\n"
      ],
      "execution_count": 51,
      "outputs": []
    },
    {
      "cell_type": "code",
      "metadata": {
        "colab": {
          "base_uri": "https://localhost:8080/"
        },
        "id": "_zx3UICgS9Dc",
        "outputId": "c5715358-d709-4d01-a1ea-180d3300adf6"
      },
      "source": [
        "mlp_regr_accuracy = evaluate_regression_model(y_regr_test, y_regr_mlp_pred)"
      ],
      "execution_count": 56,
      "outputs": [
        {
          "output_type": "stream",
          "text": [
            "The MAPE of the model is:  65.1353286434945\n",
            "The RMSE of the model is:  8762.669057459138\n",
            "The MAE of the model is:  6478.023571604074\n",
            "The R score of the model is: 0.47057422800187854\n"
          ],
          "name": "stdout"
        }
      ]
    },
    {
      "cell_type": "markdown",
      "metadata": {
        "id": "R0JV4Ng_S9Dd"
      },
      "source": [
        "**Compare models and choose the best**"
      ]
    },
    {
      "cell_type": "code",
      "metadata": {
        "colab": {
          "base_uri": "https://localhost:8080/",
          "height": 300
        },
        "id": "fd5LCQhaS9De",
        "outputId": "e44fe1d9-6102-4be7-8531-790543fa893e"
      },
      "source": [
        "x = [ 'Random Forest model', 'KNN model', 'MLP model']\n",
        "y = [ rf_regr_accuracy, knn_regr_accuracy, mlp_regr_accuracy]\n",
        "plt.bar(x,y, color = 'orange')\n",
        "plt.title('Regression accuracies for different models')\n",
        "plt.ylabel('R score')\n",
        "plt.show()\n",
        "\n",
        "print('Average across all models: ', np.mean(y))"
      ],
      "execution_count": 61,
      "outputs": [
        {
          "output_type": "display_data",
          "data": {
            "image/png": "[encoded data removed]",
            "text/plain": [
              "<Figure size 432x288 with 1 Axes>"
            ]
          },
          "metadata": {
            "tags": [],
            "needs_background": "light"
          }
        },
        {
          "output_type": "stream",
          "text": [
            "Average across all models:  0.6439070535750467\n"
          ],
          "name": "stdout"
        }
      ]
    },
    {
      "cell_type": "code",
      "metadata": {
        "id": "9xNaM_OmW6qX"
      },
      "source": [
        ""
      ],
      "execution_count": null,
      "outputs": []
    },
    {
      "cell_type": "markdown",
      "metadata": {
        "id": "cPqgK-TLS9Df"
      },
      "source": [
        "Accuracy for Random forest model: 0.865\n",
        "\n",
        "Accuracy for KNN model: 0.596\n",
        "\n",
        "Accuracy for MLP model: 0.470"
      ]
    },
    {
      "cell_type": "markdown",
      "metadata": {
        "id": "cp0FXy1pS9Dg"
      },
      "source": [
        "### **Random Forest produces the best accuracy for this regression problem with an Rscore of 0.865 and MAPE of 16%**"
      ]
    },
    {
      "cell_type": "markdown",
      "metadata": {
        "id": "ZlwGvIPYXUzU"
      },
      "source": [
        "\n",
        "\n",
        "---\n",
        "\n",
        "\n",
        "\n",
        "---\n",
        "\n",
        "\n",
        "\n",
        "## Conclusion"
      ]
    },
    {
      "cell_type": "markdown",
      "metadata": {
        "id": "w2PNH6fTXilC"
      },
      "source": [
        " Comparing the classification and regression approach\n",
        "\n",
        "For the classification approach the average accuracy across all models is 0.548 whilst the accuracy across all models for the regressin problem is 0.644.\n",
        "\n",
        "In general, we see that the regression approach gives better results than the classification one. This could be for different reasons:\n",
        "*   The 6th group for the classification of prices, is smaller than others and therefore more difficult to predict correctly. This can be seen in the very low precision values in random forest classifier and MLP classifer models. The KNN classifier performs much better in regards to precision score of the 6th group because it uses the neighbouring algorithm.\n",
        "*   Regression does better perhaps, because it is each to understand the relationships between the explanatory variables and predict a numeric price rather than a small value category. It is generally easier to do a regression than the multiclass classification.\n",
        "\n"
      ]
    }
  ]
}